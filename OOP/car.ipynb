{
 "cells": [
  {
   "cell_type": "code",
   "execution_count": 79,
   "id": "6a15bbf8",
   "metadata": {},
   "outputs": [
    {
     "name": "stdout",
     "output_type": "stream",
     "text": [
      "<__main__.Car object at 0x10d1dc2d0>\n",
      "Mustang\n"
     ]
    }
   ],
   "source": [
    "class Car:\n",
    "    # Constructor\n",
    "    def __init__(self,model,year,color,for_sale,transmission): # function metho\n",
    "        self.model=model # model-> attribute\n",
    "        self.year=year\n",
    "        self.color=color\n",
    "        self.for_sale=for_sale\n",
    "        self.transmission=transmission\n",
    "    \n",
    "    def drive(self):\n",
    "        print(f\"You Drive the{self.color} color {self.model}\")\n",
    "\n",
    "    def stop(self):\n",
    "        print(f\"You Stop the {self.model}\")\n",
    "    def cardetails(self): # method\n",
    "        print(f\"{self.model} is of {self.year}, have {self.color}\")\n",
    "\n",
    "        \n",
    "transmissionA=\"Manual\"\n",
    "transmissionB=\"Automatic\"\n",
    "\n",
    "car1=Car(\"Mustang\",2025,\"Red\", False,transmissionA)\n",
    "\n",
    "print(car1)\n",
    "print(car1.model) # . here is attribute acces operator"
   ]
  },
  {
   "cell_type": "code",
   "execution_count": 80,
   "id": "ced7e53b",
   "metadata": {},
   "outputs": [
    {
     "name": "stdout",
     "output_type": "stream",
     "text": [
      "<__main__.Car object at 0x1084b45d0>\n",
      "Corveete\n"
     ]
    }
   ],
   "source": [
    "car2=Car(\"Corveete\",2025,\"Blue\",True,transmissionB)\n",
    "print(car2)\n",
    "print(car2.model)"
   ]
  },
  {
   "cell_type": "code",
   "execution_count": 81,
   "id": "a75132b0",
   "metadata": {},
   "outputs": [
    {
     "name": "stdout",
     "output_type": "stream",
     "text": [
      "You Drive theRed color Mustang\n"
     ]
    }
   ],
   "source": [
    "car1.drive()"
   ]
  },
  {
   "cell_type": "code",
   "execution_count": 82,
   "id": "89305821",
   "metadata": {},
   "outputs": [
    {
     "name": "stdout",
     "output_type": "stream",
     "text": [
      "2025\n",
      "2002\n"
     ]
    }
   ],
   "source": [
    "#modify  attribute \n",
    "print(car1.year)\n",
    "car1.year=2002\n",
    "print(car1.year)\n"
   ]
  },
  {
   "cell_type": "code",
   "execution_count": 83,
   "id": "ef0e86cf",
   "metadata": {},
   "outputs": [
    {
     "name": "stdout",
     "output_type": "stream",
     "text": [
      "{'model': 'Mustang', 'year': 2002, 'color': 'Red', 'for_sale': False, 'transmission': 'Manual'}\n"
     ]
    }
   ],
   "source": [
    "# delete attribute\n",
    "print(car1.__dict__)\n",
    "\n"
   ]
  },
  {
   "cell_type": "code",
   "execution_count": 84,
   "id": "156fa088",
   "metadata": {},
   "outputs": [],
   "source": [
    "# delete object\n",
    "# del car1\n",
    "# print(car1.__dict__)"
   ]
  },
  {
   "cell_type": "code",
   "execution_count": 87,
   "id": "c81c20de",
   "metadata": {},
   "outputs": [
    {
     "name": "stdout",
     "output_type": "stream",
     "text": [
      "Mustang is of 2002, have Red\n"
     ]
    }
   ],
   "source": [
    "car1.cardetails()"
   ]
  },
  {
   "cell_type": "code",
   "execution_count": 109,
   "id": "26b0c29b",
   "metadata": {},
   "outputs": [
    {
     "name": "stdout",
     "output_type": "stream",
     "text": [
      "Kaustubh got 99\n"
     ]
    }
   ],
   "source": [
    "# Abstraction - hinding unecessary deatils from user\n",
    "\n",
    "class Students:\n",
    "    def __init__(self,name,marks,percent):\n",
    "        self.name=name\n",
    "        self.marks=marks\n",
    "        self.percent=percent\n",
    "\n",
    "    def result(self):\n",
    "        print(f\"{self.name} got {self.percent+2}\")\n",
    "\n",
    "Student1=Students(\"Kaustubh\",97,97)\n",
    "Student1.result()\n",
    "\n"
   ]
  },
  {
   "cell_type": "code",
   "execution_count": 110,
   "id": "a24b1d75",
   "metadata": {},
   "outputs": [],
   "source": [
    "# Encapsulation - Restrict acess to certain attributes or methods to protect data and enforce controlled acess\n",
    "\n",
    "class Students:\n",
    "    def __init__(self,name,marks,percent):\n",
    "        self.name=name\n",
    "        self.marks=marks\n",
    "        self.__percent=percent\n",
    "    def student_details(self):\n",
    "        print(f\"{self.name} got {self.percent}\")\n",
    "    def get_percentage(self):\n",
    "        return self.__percent\n",
    "    \n",
    "Student1=Students(\"Kaustubh\",97,97)\n",
    "\n"
   ]
  },
  {
   "cell_type": "code",
   "execution_count": 113,
   "id": "7f81aaaa",
   "metadata": {},
   "outputs": [],
   "source": [
    "# Encapsulation - Restrict acess to certain attributes or methods to protect data and enforce controlled acess\n",
    "\n",
    "class Students:\n",
    "    def __init__(self,name,marks,percent):\n",
    "        self.name=name\n",
    "        self.marks=marks\n",
    "        self.percent=percent\n",
    "    def student_details(self):\n",
    "        print(f\"{self.name} got {self.percent}\")\n",
    "    \n",
    "Student1=Students(\"Kaustubh\",97,97)\n"
   ]
  },
  {
   "cell_type": "code",
   "execution_count": 114,
   "id": "48aca7ce",
   "metadata": {},
   "outputs": [
    {
     "name": "stdout",
     "output_type": "stream",
     "text": [
      "{'name': 'Keshav', 'marks': 98, 'percent': 98, 'stream': 'CS'}\n",
      "Keshav got 98\n"
     ]
    }
   ],
   "source": [
    "# Inheritance - allows class (child) to reuse the property and methods of another class \n",
    "\n",
    "class Graduate(Students): #Inheritance\n",
    "    def __init__(self,name,marks,percent,stream): # parameters from parent class abd new paraneter in child class\n",
    "        super().__init__(name,marks,percent) # call parent class initializer\n",
    "        self.stream=stream # new attribute in child class\n",
    "\n",
    "    def student_details(self):\n",
    "        return super().student_details() # method inherit from parent class\n",
    "    \n",
    "Grad_student1=Graduate('Keshav',98,98,\"CS\")\n",
    "\n",
    "print(Grad_student1.__dict__)\n",
    "Grad_student1.student_details()"
   ]
  },
  {
   "cell_type": "code",
   "execution_count": null,
   "id": "dce4b117",
   "metadata": {},
   "outputs": [],
   "source": [
    "# Polymorphism -  is a method to use another methods and call \n",
    "class Students:\n",
    "    def __init__(self,name,marks,percent):\n",
    "        self.name=name\n",
    "        self.marks=marks\n",
    "        self.percent=percent\n",
    "    def student_details(self):\n",
    "        print(f\"{self.name} got {self.percent}\")\n",
    "\n",
    "    \n",
    "Student1=Students(\"Kaustubh\",97,97)\n"
   ]
  },
  {
   "cell_type": "code",
   "execution_count": null,
   "id": "380c56aa",
   "metadata": {},
   "outputs": [],
   "source": []
  },
  {
   "cell_type": "code",
   "execution_count": null,
   "id": "11124b96",
   "metadata": {},
   "outputs": [],
   "source": []
  },
  {
   "cell_type": "code",
   "execution_count": null,
   "id": "f08d2643",
   "metadata": {},
   "outputs": [],
   "source": []
  }
 ],
 "metadata": {
  "kernelspec": {
   "display_name": "base",
   "language": "python",
   "name": "python3"
  },
  "language_info": {
   "codemirror_mode": {
    "name": "ipython",
    "version": 3
   },
   "file_extension": ".py",
   "mimetype": "text/x-python",
   "name": "python",
   "nbconvert_exporter": "python",
   "pygments_lexer": "ipython3",
   "version": "3.11.7"
  }
 },
 "nbformat": 4,
 "nbformat_minor": 5
}
