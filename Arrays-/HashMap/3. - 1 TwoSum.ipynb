{
 "cells": [
  {
   "cell_type": "markdown",
   "metadata": {},
   "source": [
    "### Two Sum\n",
    "\n",
    "3,4,5,6 -> 7\n",
    "\n"
   ]
  },
  {
   "cell_type": "code",
   "execution_count": null,
   "metadata": {},
   "outputs": [
    {
     "name": "stdout",
     "output_type": "stream",
     "text": [
      "Your number List : [3, 4, 5, 6]\n",
      "Your Target Value is : 7\n"
     ]
    },
    {
     "data": {
      "text/plain": [
       "[0, 1]"
      ]
     },
     "execution_count": 8,
     "metadata": {},
     "output_type": "execute_result"
    }
   ],
   "source": [
    "def twoSum(nums,target):\n",
    "    for i in range(len(nums)): # first loop iterating it till length\n",
    "        for j in range(i+1,len(nums)): # second loop iterating loops from 1 index till end \n",
    "            if nums[i]+nums[j]==target: # comparing with target\n",
    "                return [i,j]\n",
    "    return []\n",
    "nums = list(map(int, input(\"Enter numbers separated by spaces: \").split()))\n",
    "target=int(input(\"Enter target\"))\n",
    "print(\"Your number List :\",nums)\n",
    "print(\"Your Target Value is :\",target)\n",
    "twoSum(nums,target)\n",
    "\n",
    "\n",
    "XSD"
   ]
  },
  {
   "cell_type": "markdown",
   "metadata": {},
   "source": [
    "### Hash Map Two Pass "
   ]
  },
  {
   "cell_type": "code",
   "execution_count": 1,
   "metadata": {},
   "outputs": [
    {
     "name": "stdout",
     "output_type": "stream",
     "text": [
      "Indices: [0, 1]\n"
     ]
    }
   ],
   "source": [
    "def twoSumHash(nums, target):\n",
    "    num_map = {}  # Dictionary to store numbers and their indices\n",
    "    \n",
    "    for i, n in enumerate(nums): # 3:0 value:index\n",
    "        diff = target - n       # 3-7 -> 4 nums-target->diff\n",
    "        if diff in num_map:  # Check if the complement exists \n",
    "            # here we are checking if difference preseent in num_map\n",
    "\n",
    "# 3 4 5 6 num \n",
    "# 4 3 2 1 dif \n",
    "\n",
    "            return [num_map[diff], i]  # Return indices of the two numbers\n",
    "        num_map[n] = i  # Store the current number and index in the dictionary\n",
    "    \n",
    "    return []  # Return empty list if no pair is found\n",
    "\n",
    "# Example usage\n",
    "nums = [3, 4, 5, 6]\n",
    "target = 7\n",
    "\n",
    "result = twoSumHash(nums, target)\n",
    "print(\"Indices:\", result)  # Output: [0, 1] (because 3 + 4 = 7)\n"
   ]
  },
  {
   "cell_type": "markdown",
   "metadata": {},
   "source": [
    "###  Hash Map One Pass \n"
   ]
  },
  {
   "cell_type": "code",
   "execution_count": 2,
   "metadata": {},
   "outputs": [
    {
     "name": "stdout",
     "output_type": "stream",
     "text": [
      "Indices: [0, 1]\n"
     ]
    }
   ],
   "source": [
    "def HashMapOne(nums,target):\n",
    "    empty_list={}  # empty dictionary\n",
    "    for i,n in enumerate(nums): # storing index and values in dict\n",
    "        diff=target-n   # calculating difference between target and nums \n",
    "        if diff in empty_list: # comapring the Above calculated difference whether it is present in empyty list\n",
    "            return [empty_list[diff],i] # if yes return the difference  and indices \n",
    "        empty_list[n]=i\n",
    "    return []\n",
    "\n",
    "# Example usage\n",
    "nums = [3, 4, 5, 6]\n",
    "target = 7\n",
    "\n",
    "result = HashMapOne(nums, target)\n",
    "print(\"Indices:\", result)  # Output: [0, 1] (because 3 + 4 = 7)\n",
    "        "
   ]
  },
  {
   "cell_type": "code",
   "execution_count": null,
   "metadata": {},
   "outputs": [],
   "source": []
  }
 ],
 "metadata": {
  "kernelspec": {
   "display_name": "base",
   "language": "python",
   "name": "python3"
  },
  "language_info": {
   "codemirror_mode": {
    "name": "ipython",
    "version": 3
   },
   "file_extension": ".py",
   "mimetype": "text/x-python",
   "name": "python",
   "nbconvert_exporter": "python",
   "pygments_lexer": "ipython3",
   "version": "3.11.7"
  }
 },
 "nbformat": 4,
 "nbformat_minor": 2
}
