{
 "cells": [
  {
   "cell_type": "code",
   "execution_count": 1,
   "id": "8c52d240",
   "metadata": {},
   "outputs": [
    {
     "data": {
      "text/plain": [
       "[4, 3, 2, 1]"
      ]
     },
     "execution_count": 1,
     "metadata": {},
     "output_type": "execute_result"
    }
   ],
   "source": [
    "def Reverse(num):\n",
    "    return num[::-1]\n",
    "\n",
    "num=[1,2,3,4]\n",
    "Reverse(num)"
   ]
  },
  {
   "cell_type": "code",
   "execution_count": 3,
   "id": "2afa3053",
   "metadata": {},
   "outputs": [
    {
     "data": {
      "text/plain": [
       "[5, 4, 3, 2, 1]"
      ]
     },
     "execution_count": 3,
     "metadata": {},
     "output_type": "execute_result"
    }
   ],
   "source": [
    "# Two Pointer Method\n",
    "\n",
    "def ReverseTwo(num):\n",
    "    start=0\n",
    "    end=len(num)-1\n",
    "    while start<end:\n",
    "        num[start],num[end]=num[end],num[start]\n",
    "        start+=1\n",
    "        end -=1\n",
    "    return num\n",
    "\n",
    "num=[1,2,3,4,5]\n",
    "ReverseTwo(num)"
   ]
  },
  {
   "cell_type": "code",
   "execution_count": null,
   "id": "92a0a3ec",
   "metadata": {},
   "outputs": [],
   "source": []
  }
 ],
 "metadata": {
  "kernelspec": {
   "display_name": "base",
   "language": "python",
   "name": "python3"
  },
  "language_info": {
   "codemirror_mode": {
    "name": "ipython",
    "version": 3
   },
   "file_extension": ".py",
   "mimetype": "text/x-python",
   "name": "python",
   "nbconvert_exporter": "python",
   "pygments_lexer": "ipython3",
   "version": "3.11.7"
  }
 },
 "nbformat": 4,
 "nbformat_minor": 5
}
