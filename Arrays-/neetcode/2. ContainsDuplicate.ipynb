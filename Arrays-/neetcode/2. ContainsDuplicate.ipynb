{
 "cells": [
  {
   "cell_type": "markdown",
   "metadata": {},
   "source": [
    "### Contains Dupicate - NeetCode\n"
   ]
  },
  {
   "cell_type": "markdown",
   "metadata": {},
   "source": [
    "Input: nums = [1, 2, 3, 3]\n",
    "\n",
    "Output: true"
   ]
  },
  {
   "cell_type": "code",
   "execution_count": null,
   "metadata": {},
   "outputs": [
    {
     "data": {
      "text/plain": [
       "True"
      ]
     },
     "execution_count": 4,
     "metadata": {},
     "output_type": "execute_result"
    }
   ],
   "source": [
    "# Brute Force \n",
    "def duplicate(nums):\n",
    "    for i in range(len(nums)):\n",
    "        for j in range(i+1 ,len(nums)):\n",
    "            if nums[i]==nums[j]:\n",
    "                return True\n",
    "    return False\n",
    "\n",
    "\n",
    "nums=[1,2,3,3]\n",
    "duplicate(nums)   \n",
    "\n",
    "# TC - O(N)square\n",
    "# SC- O(1)"
   ]
  },
  {
   "cell_type": "code",
   "execution_count": 7,
   "metadata": {},
   "outputs": [
    {
     "data": {
      "text/plain": [
       "True"
      ]
     },
     "execution_count": 7,
     "metadata": {},
     "output_type": "execute_result"
    }
   ],
   "source": [
    "# Sorting \n",
    "# Brute Force \n",
    "def duplicate(nums):\n",
    "    nums.sort()\n",
    "    for i in range(1,len(nums)):\n",
    "            if nums[i]==nums[i-1]:\n",
    "                return True\n",
    "    return False\n",
    "\n",
    "\n",
    "nums=[1,2,3,3]\n",
    "duplicate(nums)   \n",
    "\n",
    "# TC - O(NLogN)\n",
    "# SC- O(1)"
   ]
  },
  {
   "cell_type": "code",
   "execution_count": 10,
   "metadata": {},
   "outputs": [
    {
     "data": {
      "text/plain": [
       "True"
      ]
     },
     "execution_count": 10,
     "metadata": {},
     "output_type": "execute_result"
    }
   ],
   "source": [
    "# Hash Length\n",
    "\n",
    "def duplicate(nums):\n",
    "    seen=set()\n",
    "    for num in nums:\n",
    "        if num in seen:\n",
    "            return True\n",
    "        seen.add(num)\n",
    "    return False\n",
    "\n",
    "nums=[1,2,3,3]\n",
    "duplicate(nums)   \n",
    "# TC - O(N)\n",
    "# SC- O(N)"
   ]
  },
  {
   "cell_type": "code",
   "execution_count": null,
   "metadata": {},
   "outputs": [],
   "source": []
  }
 ],
 "metadata": {
  "kernelspec": {
   "display_name": "base",
   "language": "python",
   "name": "python3"
  },
  "language_info": {
   "codemirror_mode": {
    "name": "ipython",
    "version": 3
   },
   "file_extension": ".py",
   "mimetype": "text/x-python",
   "name": "python",
   "nbconvert_exporter": "python",
   "pygments_lexer": "ipython3",
   "version": "3.11.7"
  }
 },
 "nbformat": 4,
 "nbformat_minor": 2
}
