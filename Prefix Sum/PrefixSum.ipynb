{
 "cells": [
  {
   "cell_type": "markdown",
   "metadata": {},
   "source": [
    "# Prefix Sum\n",
    "\n",
    "\n",
    "pref -> sum of k elements\n",
    "\n",
    "### Prefix formula \n",
    "pref[i]= pref[i-1] + arr[i-1]\n",
    "\n",
    "\n",
    "or \n",
    "\n",
    "pref[i+1]= pref[i] + arr[i]\n",
    "\n",
    "### Sum of Range\n",
    "\n",
    "sum(l...r)=pref[r+1]-pref[l]"
   ]
  },
  {
   "cell_type": "markdown",
   "metadata": {},
   "source": [
    "Input: arr[] = [10, 20, 10, 5, 15]\n",
    "Output: 10 30 40 45 60"
   ]
  },
  {
   "cell_type": "code",
   "execution_count": null,
   "metadata": {},
   "outputs": [
    {
     "data": {
      "text/plain": [
       "[10, 30, 40, 45, 60]"
      ]
     },
     "execution_count": 8,
     "metadata": {},
     "output_type": "execute_result"
    }
   ],
   "source": [
    "# Brute Force\n",
    "def SumBrute(nums):\n",
    "    sum=0\n",
    "    list=[]\n",
    "    for num in nums:\n",
    "        sum+=num\n",
    "        list.append(sum)\n",
    "    return list\n",
    "nums=[10, 20, 10, 5, 15]\n",
    "SumBrute(nums)"
   ]
  },
  {
   "cell_type": "code",
   "execution_count": null,
   "metadata": {},
   "outputs": [],
   "source": [
    "# Prefix Sum \n",
    "def PrefixSum(nums):\n",
    "    pref=0\n",
    "    pref_list=[]\n",
    "\n",
    "    for i in range(nums):\n",
    "        pref[i]=pref[i-1]+nums[i-1]\n",
    "        pref_list.append(pref[i])\n",
    "\n",
    "    sum(nums)=pref\n"
   ]
  }
 ],
 "metadata": {
  "kernelspec": {
   "display_name": "base",
   "language": "python",
   "name": "python3"
  },
  "language_info": {
   "codemirror_mode": {
    "name": "ipython",
    "version": 3
   },
   "file_extension": ".py",
   "mimetype": "text/x-python",
   "name": "python",
   "nbconvert_exporter": "python",
   "pygments_lexer": "ipython3",
   "version": "3.11.7"
  }
 },
 "nbformat": 4,
 "nbformat_minor": 2
}
