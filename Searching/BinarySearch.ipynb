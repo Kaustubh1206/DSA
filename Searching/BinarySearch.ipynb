{
 "cells": [
  {
   "cell_type": "markdown",
   "metadata": {},
   "source": [
    "# Binary Search \n",
    "- Binary Search can be only appliedto sorted list of array.\n",
    "- either in ascending or descending order "
   ]
  }
 ],
 "metadata": {
  "language_info": {
   "name": "python"
  }
 },
 "nbformat": 4,
 "nbformat_minor": 2
}
