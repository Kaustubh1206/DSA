{
 "cells": [
  {
   "cell_type": "markdown",
   "metadata": {},
   "source": [
    "## Linear Search \n",
    "input =[10,2,3,4,5,6,7]\n",
    "target = 7\n"
   ]
  },
  {
   "cell_type": "code",
   "execution_count": null,
   "metadata": {},
   "outputs": [
    {
     "name": "stdout",
     "output_type": "stream",
     "text": [
      "Given target number is present at this index : 6\n"
     ]
    }
   ],
   "source": [
    "def LinearSearch(nums,target):\n",
    "    size=len(nums) # length of array \n",
    "    for index in range(0,size): # iterating from 0 to nth number of array \n",
    "        if (nums[index]==target): # condition for checking target equal to num\n",
    "            return print(\"Given target number is present at this index :\",index) # if conditiion satisfy return \n",
    "    return print(\"Target doesn't exist\")\n",
    "nums=[10,2,3,4,5,6,7]\n",
    "target=7\n",
    "LinearSearch(nums,target)\n",
    "\n"
   ]
  },
  {
   "cell_type": "markdown",
   "metadata": {},
   "source": [
    "Here in linear search we are iterating through every number in the array "
   ]
  },
  {
   "cell_type": "code",
   "execution_count": null,
   "metadata": {},
   "outputs": [],
   "source": []
  }
 ],
 "metadata": {
  "kernelspec": {
   "display_name": "base",
   "language": "python",
   "name": "python3"
  },
  "language_info": {
   "codemirror_mode": {
    "name": "ipython",
    "version": 3
   },
   "file_extension": ".py",
   "mimetype": "text/x-python",
   "name": "python",
   "nbconvert_exporter": "python",
   "pygments_lexer": "ipython3",
   "version": "3.11.7"
  }
 },
 "nbformat": 4,
 "nbformat_minor": 2
}
