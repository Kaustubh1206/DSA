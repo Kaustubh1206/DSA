{
 "cells": [
  {
   "cell_type": "markdown",
   "id": "947342fb",
   "metadata": {},
   "source": [
    "977. Squares of a Sorted Array"
   ]
  },
  {
   "cell_type": "code",
   "execution_count": null,
   "id": "13fe88f5",
   "metadata": {},
   "outputs": [
    {
     "data": {
      "text/plain": [
       "[0, 1, 4, 16, 81]"
      ]
     },
     "execution_count": 2,
     "metadata": {},
     "output_type": "execute_result"
    }
   ],
   "source": [
    "def squares(nums):\n",
    "    return sorted([x * x for x in nums])\n",
    "nums=[-4,1,0,2,9]\n",
    "\n",
    "squares(nums)\n",
    "# TC- O(nlogn)"
   ]
  },
  {
   "cell_type": "code",
   "execution_count": null,
   "id": "08400f64",
   "metadata": {},
   "outputs": [
    {
     "data": {
      "text/plain": [
       "[0, 1, 4, 16, 81]"
      ]
     },
     "execution_count": 3,
     "metadata": {},
     "output_type": "execute_result"
    }
   ],
   "source": [
    "def sorted_squares(nums):\n",
    "    res=[0]*len(nums)\n",
    "    left,right=0, len(nums)-1\n",
    "    pos=len(nums)-1\n",
    "    while left<=right:\n",
    "        if abs(nums[left])>abs(nums[right]):\n",
    "            res[pos]=nums[left]**2\n",
    "            left+=1\n",
    "        else:\n",
    "            res[pos]=nums[right]**2\n",
    "            right-=1\n",
    "        pos-=1\n",
    "    return res\n",
    "\n",
    "nums=[-4,1,0,2,9]\n",
    "sorted_squares(nums)\n",
    "\n",
    "# TC- O(n)"
   ]
  },
  {
   "cell_type": "code",
   "execution_count": null,
   "id": "8a930672",
   "metadata": {},
   "outputs": [],
   "source": []
  }
 ],
 "metadata": {
  "kernelspec": {
   "display_name": "base",
   "language": "python",
   "name": "python3"
  },
  "language_info": {
   "codemirror_mode": {
    "name": "ipython",
    "version": 3
   },
   "file_extension": ".py",
   "mimetype": "text/x-python",
   "name": "python",
   "nbconvert_exporter": "python",
   "pygments_lexer": "ipython3",
   "version": "3.11.7"
  }
 },
 "nbformat": 4,
 "nbformat_minor": 5
}
