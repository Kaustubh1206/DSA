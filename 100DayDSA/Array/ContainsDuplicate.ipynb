{
 "cells": [
  {
   "cell_type": "markdown",
   "id": "726a2a98",
   "metadata": {},
   "source": [
    "## 217. Contains Duplicate\n",
    "https://leetcode.com/problems/contains-duplicate/description/"
   ]
  },
  {
   "cell_type": "code",
   "execution_count": null,
   "id": "1bfbffe7",
   "metadata": {},
   "outputs": [
    {
     "ename": "TypeError",
     "evalue": "'list' object cannot be interpreted as an integer",
     "output_type": "error",
     "traceback": [
      "\u001b[0;31m---------------------------------------------------------------------------\u001b[0m",
      "\u001b[0;31mTypeError\u001b[0m                                 Traceback (most recent call last)",
      "Cell \u001b[0;32mIn[1], line 10\u001b[0m\n\u001b[1;32m      7\u001b[0m     \u001b[38;5;28;01mreturn\u001b[39;00m \u001b[38;5;28;01mFalse\u001b[39;00m\n\u001b[1;32m      9\u001b[0m nums\u001b[38;5;241m=\u001b[39m[\u001b[38;5;241m1\u001b[39m,\u001b[38;5;241m2\u001b[39m,\u001b[38;5;241m1\u001b[39m,\u001b[38;5;241m3\u001b[39m]\n\u001b[0;32m---> 10\u001b[0m isduplicate(nums)\n",
      "Cell \u001b[0;32mIn[1], line 3\u001b[0m, in \u001b[0;36misduplicate\u001b[0;34m(nums)\u001b[0m\n\u001b[1;32m      2\u001b[0m \u001b[38;5;28;01mdef\u001b[39;00m \u001b[38;5;21misduplicate\u001b[39m(nums):\n\u001b[0;32m----> 3\u001b[0m     \u001b[38;5;28;01mfor\u001b[39;00m i \u001b[38;5;129;01min\u001b[39;00m \u001b[38;5;28mrange\u001b[39m(nums):\n\u001b[1;32m      4\u001b[0m         \u001b[38;5;28;01mfor\u001b[39;00m j \u001b[38;5;129;01min\u001b[39;00m \u001b[38;5;28mrange\u001b[39m (\u001b[38;5;241m1\u001b[39m,nums):\n\u001b[1;32m      5\u001b[0m             \u001b[38;5;28;01mif\u001b[39;00m nums[i]\u001b[38;5;241m==\u001b[39mnums[j]:\n",
      "\u001b[0;31mTypeError\u001b[0m: 'list' object cannot be interpreted as an integer"
     ]
    }
   ],
   "source": [
    "# BRUTE FORCE\n",
    "def isduplicate(nums):\n",
    "    for i in range(len(nums)):\n",
    "        for j in range (1,len(nums)):\n",
    "            if nums[i]==nums[j]:\n",
    "                return True\n",
    "    return False\n",
    "\n",
    "nums=[1,2,1,3]\n",
    "isduplicate(nums)\n"
   ]
  },
  {
   "cell_type": "code",
   "execution_count": null,
   "id": "9e2cff40",
   "metadata": {},
   "outputs": [],
   "source": []
  }
 ],
 "metadata": {
  "kernelspec": {
   "display_name": "base",
   "language": "python",
   "name": "python3"
  },
  "language_info": {
   "codemirror_mode": {
    "name": "ipython",
    "version": 3
   },
   "file_extension": ".py",
   "mimetype": "text/x-python",
   "name": "python",
   "nbconvert_exporter": "python",
   "pygments_lexer": "ipython3",
   "version": "3.11.7"
  }
 },
 "nbformat": 4,
 "nbformat_minor": 5
}
