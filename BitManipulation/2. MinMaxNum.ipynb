{
 "cells": [
  {
   "cell_type": "code",
   "execution_count": 3,
   "id": "3fb1c22c",
   "metadata": {},
   "outputs": [
    {
     "data": {
      "text/plain": [
       "(1, 6)"
      ]
     },
     "execution_count": 3,
     "metadata": {},
     "output_type": "execute_result"
    }
   ],
   "source": [
    "def MinMax(nums):\n",
    "    if len(nums)==0:\n",
    "        return None\n",
    "    min=nums[0]\n",
    "    max=nums[0]\n",
    "\n",
    "    for i in nums[1:]:\n",
    "        if i<min:\n",
    "            min=i\n",
    "        if i>max:\n",
    "            max=i\n",
    "    return min,max\n",
    "\n",
    "nums=[1,2,3,4,5,6]\n",
    "MinMax(nums)"
   ]
  },
  {
   "cell_type": "code",
   "execution_count": null,
   "id": "dbccbea9",
   "metadata": {},
   "outputs": [],
   "source": []
  }
 ],
 "metadata": {
  "kernelspec": {
   "display_name": "base",
   "language": "python",
   "name": "python3"
  },
  "language_info": {
   "codemirror_mode": {
    "name": "ipython",
    "version": 3
   },
   "file_extension": ".py",
   "mimetype": "text/x-python",
   "name": "python",
   "nbconvert_exporter": "python",
   "pygments_lexer": "ipython3",
   "version": "3.11.7"
  }
 },
 "nbformat": 4,
 "nbformat_minor": 5
}
