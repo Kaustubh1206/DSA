{
 "cells": [
  {
   "cell_type": "code",
   "execution_count": 4,
   "id": "91410ac5",
   "metadata": {},
   "outputs": [
    {
     "name": "stdout",
     "output_type": "stream",
     "text": [
      "Enter your target\n",
      "[2, 5, 3, 6]\n"
     ]
    }
   ],
   "source": [
    "def two_pointers(arr,target):\n",
    "    left,right = 0, len(arr)-1\n",
    "    while left<right:\n",
    "        if arr[left]+arr[right]==target:\n",
    "            return [left,right,arr[left],arr[right]]\n",
    "        elif arr[left]+arr[right]<target:\n",
    "            left+=1\n",
    "        else :\n",
    "            right-=1\n",
    "\n",
    "arr=[1,2,3,4,5,6]\n",
    "print(\"Enter your target\")\n",
    "target = int(input(\"Enter your target: \"))\n",
    "result = two_pointers(arr, target)\n",
    "print(result)"
   ]
  },
  {
   "cell_type": "code",
   "execution_count": null,
   "id": "f410cdec",
   "metadata": {},
   "outputs": [],
   "source": []
  }
 ],
 "metadata": {
  "kernelspec": {
   "display_name": "base",
   "language": "python",
   "name": "python3"
  },
  "language_info": {
   "codemirror_mode": {
    "name": "ipython",
    "version": 3
   },
   "file_extension": ".py",
   "mimetype": "text/x-python",
   "name": "python",
   "nbconvert_exporter": "python",
   "pygments_lexer": "ipython3",
   "version": "3.11.7"
  }
 },
 "nbformat": 4,
 "nbformat_minor": 5
}
