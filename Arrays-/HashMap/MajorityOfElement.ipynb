{
 "cells": [
  {
   "cell_type": "markdown",
   "metadata": {},
   "source": [
    "## Majority of Element\n",
    "\n",
    "Example 1:\n",
    "\n",
    "Input: nums = [3,2,3]\n",
    "Output: 3\n",
    "Example 2:\n",
    "\n",
    "Input: nums = [2,2,1,1,1,2,2]\n",
    "Output: 2\n"
   ]
  },
  {
   "cell_type": "code",
   "execution_count": null,
   "metadata": {},
   "outputs": [
    {
     "data": {
      "text/plain": [
       "3"
      ]
     },
     "execution_count": 2,
     "metadata": {},
     "output_type": "execute_result"
    }
   ],
   "source": [
    "# Brute Force\n",
    "\n",
    "def Majority(nums):\n",
    "    freq={} # empty dict \n",
    "    majority=len(nums)//2 #  calculating majority means it should be greater than half \n",
    "    for num in nums: # iterating through every number in a list \n",
    "        if num in freq:  #  \n",
    "            freq[num]+=1  # \n",
    "        else:\n",
    "            freq[num]=1   # \n",
    "    \n",
    "    for key,value in freq.items(): # \n",
    "        if value>majority: # \n",
    "            return key\n",
    "        \n",
    "nums=[3,2,3]\n",
    "Majority(nums)\n"
   ]
  },
  {
   "cell_type": "code",
   "execution_count": null,
   "metadata": {},
   "outputs": [
    {
     "data": {
      "text/plain": [
       "3"
      ]
     },
     "execution_count": 4,
     "metadata": {},
     "output_type": "execute_result"
    }
   ],
   "source": [
    "# Hash Map \n",
    "from collections import defaultdict\n",
    "def MajorityHash(num):\n",
    "    count=defaultdict(int) # storing key value pair\n",
    "    res=maxCount=0 ## intial max count will be zero\n",
    " \n",
    "    for num in num :\n",
    "        count[num]+=1 # counting number based on key \n",
    "        if maxCount< count[num]: # when the count of nymber exceeeds max count\n",
    "            res= num # change result to the max count number\n",
    "            maxCount=count[num] \n",
    "        return res # return result \n",
    "    \n",
    "\n",
    "\n",
    "nums=[3,2,3]\n",
    "MajorityHash(nums)\n"
   ]
  },
  {
   "cell_type": "code",
   "execution_count": 8,
   "metadata": {},
   "outputs": [
    {
     "data": {
      "text/plain": [
       "1"
      ]
     },
     "execution_count": 8,
     "metadata": {},
     "output_type": "execute_result"
    }
   ],
   "source": [
    "# Sorting \n",
    "def MajoritySort(nums):\n",
    "    nums.sort()\n",
    "    return nums[len(nums)//2]\n",
    "nums= [1,2,2,2,2,2,1,1,1,1,1,1,2,2,2,1,1,1,1,1,1,2,1,1,1,1,1,2,1,2,1,21,2,12]\n",
    "MajoritySort(nums)"
   ]
  },
  {
   "cell_type": "code",
   "execution_count": null,
   "metadata": {},
   "outputs": [],
   "source": []
  },
  {
   "cell_type": "code",
   "execution_count": null,
   "metadata": {},
   "outputs": [],
   "source": []
  }
 ],
 "metadata": {
  "kernelspec": {
   "display_name": "base",
   "language": "python",
   "name": "python3"
  },
  "language_info": {
   "codemirror_mode": {
    "name": "ipython",
    "version": 3
   },
   "file_extension": ".py",
   "mimetype": "text/x-python",
   "name": "python",
   "nbconvert_exporter": "python",
   "pygments_lexer": "ipython3",
   "version": "3.11.7"
  }
 },
 "nbformat": 4,
 "nbformat_minor": 2
}
