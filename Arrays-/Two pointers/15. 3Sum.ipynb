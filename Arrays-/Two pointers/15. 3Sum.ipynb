{
 "cells": [
  {
   "cell_type": "code",
   "execution_count": null,
   "id": "00ae407c",
   "metadata": {},
   "outputs": [],
   "source": [
    "def threeSum(nums):\n",
    "    nums.sort()\n",
    "    n = len(nums)\n",
    "    res = []\n",
    "\n",
    "    for i in range(n - 2):\n",
    "        # Early exit: once nums[i] > 0, no valid triplets remain\n",
    "        if nums[i] > 0:\n",
    "            break\n",
    "        # Skip duplicates for the first element\n",
    "        if i > 0 and nums[i] == nums[i - 1]:\n",
    "            continue\n",
    "\n",
    "        left, right = i + 1, n - 1\n",
    "        while left < right:\n",
    "            s = nums[i] + nums[left] + nums[right]\n",
    "            if s < 0:\n",
    "                left += 1\n",
    "            elif s > 0:\n",
    "                right -= 1\n",
    "            else:\n",
    "                res.append([nums[i], nums[left], nums[right]])\n",
    "                left += 1\n",
    "                right -= 1\n",
    "                # Skip duplicates for left/right elements\n",
    "                while left < right and nums[left] == nums[left - 1]:\n",
    "                    left += 1\n",
    "                while left < right and nums[right] == nums[right + 1]:\n",
    "                    right -= 1\n",
    "\n",
    "    return res\n"
   ]
  }
 ],
 "metadata": {
  "language_info": {
   "name": "python"
  }
 },
 "nbformat": 4,
 "nbformat_minor": 5
}
