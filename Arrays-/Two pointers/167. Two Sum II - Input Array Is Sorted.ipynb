{
 "cells": [
  {
   "cell_type": "markdown",
   "id": "abbeff36",
   "metadata": {},
   "source": [
    "167. Two Sum II - Input Array Is Sorted\n",
    "\n"
   ]
  },
  {
   "cell_type": "code",
   "execution_count": null,
   "id": "df34d7b8",
   "metadata": {},
   "outputs": [
    {
     "data": {
      "text/plain": [
       "[1, 8]"
      ]
     },
     "execution_count": 2,
     "metadata": {},
     "output_type": "execute_result"
    }
   ],
   "source": [
    "# Converging method \n",
    "def twoSum( numbers, target):\n",
    "    left,right=0,len(numbers)-1\n",
    "    while left<right:\n",
    "        if numbers[left]+numbers[right]==target:\n",
    "            return [left+1,right+1]\n",
    "        elif numbers[left]+numbers[right]<target:\n",
    "            left+=1\n",
    "        else:\n",
    "            right-=1\n",
    "            \n",
    "numbers=[1,2,3,4,5,6,7,8,9]\n",
    "target=9\n",
    "twoSum(numbers,target)\n",
    "\n",
    "# tc= O(n)\n",
    "# sc= O(1)"
   ]
  },
  {
   "cell_type": "code",
   "execution_count": 3,
   "id": "a7ac6040",
   "metadata": {},
   "outputs": [
    {
     "data": {
      "text/plain": [
       "[2, 7]"
      ]
     },
     "execution_count": 3,
     "metadata": {},
     "output_type": "execute_result"
    }
   ],
   "source": [
    "# If inteviwer ask to return second pair\n",
    "\n",
    "\n",
    "def twoSum( numbers, target):\n",
    "    left,right=0,len(numbers)-1\n",
    "    first_pair=False\n",
    "\n",
    "    while left<right:\n",
    "        current_sum=numbers[left]+numbers[right]\n",
    "        if current_sum==target:\n",
    "            if not first_pair:\n",
    "                first_pair=True\n",
    "                left+=1\n",
    "                right-=1\n",
    "            else:\n",
    "                return[left+1,right+1]      \n",
    "        elif current_sum<target:\n",
    "            left+=1\n",
    "        else:\n",
    "            right-=1\n",
    "            \n",
    "numbers=[1,2,3,4,5,6,7,8,9]\n",
    "target=9\n",
    "twoSum(numbers,target)"
   ]
  }
 ],
 "metadata": {
  "kernelspec": {
   "display_name": "base",
   "language": "python",
   "name": "python3"
  },
  "language_info": {
   "codemirror_mode": {
    "name": "ipython",
    "version": 3
   },
   "file_extension": ".py",
   "mimetype": "text/x-python",
   "name": "python",
   "nbconvert_exporter": "python",
   "pygments_lexer": "ipython3",
   "version": "3.11.7"
  }
 },
 "nbformat": 4,
 "nbformat_minor": 5
}
