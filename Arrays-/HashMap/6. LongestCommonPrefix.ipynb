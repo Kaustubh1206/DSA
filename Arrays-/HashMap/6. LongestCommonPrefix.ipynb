{
 "cells": [
  {
   "cell_type": "markdown",
   "metadata": {},
   "source": [
    "##Longest Common Prefix"
   ]
  },
  {
   "cell_type": "markdown",
   "metadata": {},
   "source": [
    "Input- [\"Cluster\",\"Clue\",\"Clutch\",\"Club\"]\n",
    "\n",
    "\n",
    "Output- clu"
   ]
  },
  {
   "cell_type": "markdown",
   "metadata": {},
   "source": [
    "BruteForce\n"
   ]
  },
  {
   "cell_type": "code",
   "execution_count": null,
   "metadata": {},
   "outputs": [
    {
     "name": "stdout",
     "output_type": "stream",
     "text": [
      "fl\n"
     ]
    }
   ],
   "source": [
    "def LongestCommonPrefix(strs):\n",
    "    if not strs:\n",
    "        return \"\"\n",
    "\n",
    "    first_str=strs[0] # HEE WE ARE TAKING FIRST STRING AS A BASE\n",
    "    prefix=\"\" \n",
    "\n",
    "    for i in range(len(first_str)): # Itertate through first string \n",
    "        char=first_str[i] # first char\n",
    "\n",
    "        for word in strs[1:]:   # Compare with all  words\n",
    "            if i>=len(word) or word[i]!=char:\n",
    "                return prefix # if condition doesnt matches\n",
    "        \n",
    "        prefix += char # if all strings chave char , add to prefix\n",
    "    return prefix\n",
    "\n",
    "strs = [\"flower\", \"flow\", \"flight\"]\n",
    "print(LongestCommonPrefix(strs))\n"
   ]
  },
  {
   "cell_type": "markdown",
   "metadata": {},
   "source": []
  },
  {
   "cell_type": "markdown",
   "metadata": {},
   "source": [
    "Vertical Scanning"
   ]
  },
  {
   "cell_type": "code",
   "execution_count": null,
   "metadata": {},
   "outputs": [
    {
     "data": {
      "text/plain": [
       "'fl'"
      ]
     },
     "execution_count": 9,
     "metadata": {},
     "output_type": "execute_result"
    }
   ],
   "source": [
    "def LongestCommonPrefixVertical(strs):\n",
    "    if not strs:\n",
    "        return \"\"\n",
    "    \n",
    "    for i in range(len(strs[0])):\n",
    "        char=strs[0][i] # string with index \n",
    "        for word in strs[1:]: # leave the first string and itertate from second to lst string \n",
    "            if i>=len(word) or word[i]!=char:\n",
    "                return strs[0][:i] # return he prefix till i \n",
    "            # here we have iterated from 0 to 2 and found taht fl is in alll string \n",
    "            # but o is not matching \n",
    "            # strs[0][:i till i which is 1]\n",
    "    return strs[0]\n",
    "strs = [\"flower\", \"flow\", \"flight\"]\n",
    "LongestCommonPrefixVertical(strs)"
   ]
  },
  {
   "cell_type": "markdown",
   "metadata": {},
   "source": [
    "Sorting and Comparing First and Last"
   ]
  },
  {
   "cell_type": "code",
   "execution_count": 10,
   "metadata": {},
   "outputs": [
    {
     "data": {
      "text/plain": [
       "'fl'"
      ]
     },
     "execution_count": 10,
     "metadata": {},
     "output_type": "execute_result"
    }
   ],
   "source": [
    "def LongestCommonPrefixsortingComparing(strs):\n",
    "    if not strs:\n",
    "        return \"\"\n",
    "    \n",
    "    strs.sort()\n",
    "    first, last= strs[0],strs[-1]\n",
    "\n",
    "    i=0\n",
    "    while i<len(first) and i<len(last) and first[i]==last[i]:\n",
    "        i+=1\n",
    "    \n",
    "    return first[:i]\n",
    "LongestCommonPrefixsortingComparing(strs)"
   ]
  },
  {
   "cell_type": "markdown",
   "metadata": {},
   "source": []
  }
 ],
 "metadata": {
  "kernelspec": {
   "display_name": "base",
   "language": "python",
   "name": "python3"
  },
  "language_info": {
   "codemirror_mode": {
    "name": "ipython",
    "version": 3
   },
   "file_extension": ".py",
   "mimetype": "text/x-python",
   "name": "python",
   "nbconvert_exporter": "python",
   "pygments_lexer": "ipython3",
   "version": "3.11.7"
  }
 },
 "nbformat": 4,
 "nbformat_minor": 2
}
