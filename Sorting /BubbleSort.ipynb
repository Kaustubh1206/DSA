{
 "cells": [
  {
   "cell_type": "markdown",
   "metadata": {},
   "source": [
    "# Bubble Sorting \n",
    "\n",
    "In Bubble Sort we compare two elements\n",
    "12 25 11 34 90 22 - Input \n",
    "\n",
    "12-25 11 34 90 22 - 1st iteration - here we can see that 12 is less than 25 so no need to swap \n",
    "\n",
    "12 25-11 34 90 22 - 2nd iteration - here 25 is greater than 11 so we will swap it here\n",
    "\n",
    "same goes on \n",
    "\n"
   ]
  },
  {
   "cell_type": "markdown",
   "metadata": {},
   "source": [
    "12 25 11 34 90 22\n",
    "0   1  2  3  4  5 \n",
    "\n",
    "1st passes"
   ]
  },
  {
   "cell_type": "code",
   "execution_count": 3,
   "metadata": {},
   "outputs": [
    {
     "data": {
      "text/plain": [
       "[11, 12, 22, 25, 34, 90]"
      ]
     },
     "execution_count": 3,
     "metadata": {},
     "output_type": "execute_result"
    }
   ],
   "source": [
    "# Bubble Sort \n",
    "def BubbleSort(nums):\n",
    "    n=len(nums)\n",
    "    for passes in range(0,n-1):\n",
    "        for i in range(0,n-1-passes):\n",
    "            if nums[i]> nums[i+1]:\n",
    "                nums[i],nums[i+1]=nums[i+1],nums[i]\n",
    "    return nums\n",
    "unsorted=[12,25,11,34,90,22]\n",
    "BubbleSort(unsorted)\n"
   ]
  },
  {
   "cell_type": "code",
   "execution_count": null,
   "metadata": {},
   "outputs": [],
   "source": []
  }
 ],
 "metadata": {
  "kernelspec": {
   "display_name": "base",
   "language": "python",
   "name": "python3"
  },
  "language_info": {
   "codemirror_mode": {
    "name": "ipython",
    "version": 3
   },
   "file_extension": ".py",
   "mimetype": "text/x-python",
   "name": "python",
   "nbconvert_exporter": "python",
   "pygments_lexer": "ipython3",
   "version": "3.11.7"
  }
 },
 "nbformat": 4,
 "nbformat_minor": 2
}
