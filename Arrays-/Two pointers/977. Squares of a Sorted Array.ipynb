{
 "cells": [
  {
   "cell_type": "markdown",
   "id": "947342fb",
   "metadata": {},
   "source": [
    "977. Squares of a Sorted Array"
   ]
  },
  {
   "cell_type": "code",
   "execution_count": null,
   "id": "13fe88f5",
   "metadata": {},
   "outputs": [],
   "source": [
    "def squares(nums):\n",
    "    updated=[x * x for x in nums]\n",
    "    left=0\n",
    "    for right in range(1,len(updated)-1):\n",
    "        \n"
   ]
  },
  {
   "cell_type": "code",
   "execution_count": 2,
   "id": "08400f64",
   "metadata": {},
   "outputs": [
    {
     "name": "stdout",
     "output_type": "stream",
     "text": [
      "[16, 1, 0, 9, 100]\n"
     ]
    }
   ],
   "source": [
    "nums=[-4,-1,0,3,10]\n",
    "update=[x * x for x in nums]\n",
    "print(update)"
   ]
  },
  {
   "cell_type": "code",
   "execution_count": null,
   "id": "8a930672",
   "metadata": {},
   "outputs": [],
   "source": []
  }
 ],
 "metadata": {
  "kernelspec": {
   "display_name": "base",
   "language": "python",
   "name": "python3"
  },
  "language_info": {
   "codemirror_mode": {
    "name": "ipython",
    "version": 3
   },
   "file_extension": ".py",
   "mimetype": "text/x-python",
   "name": "python",
   "nbconvert_exporter": "python",
   "pygments_lexer": "ipython3",
   "version": "3.11.7"
  }
 },
 "nbformat": 4,
 "nbformat_minor": 5
}
