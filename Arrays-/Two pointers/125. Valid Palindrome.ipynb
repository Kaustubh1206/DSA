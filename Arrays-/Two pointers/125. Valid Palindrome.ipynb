{
 "cells": [
  {
   "cell_type": "markdown",
   "id": "011343f8",
   "metadata": {},
   "source": [
    "125. Valid Palindrome\n"
   ]
  },
  {
   "cell_type": "code",
   "execution_count": null,
   "id": "21fa1644",
   "metadata": {},
   "outputs": [],
   "source": [
    "def isPalindrome(s):\n",
    "    striped=s.strip(\" ,:\")\n",
    "    lowercase=striped.lower()\n",
    "    left=lowercase[0]\n",
    "    right=lowercase[-1]\n"
   ]
  },
  {
   "cell_type": "code",
   "execution_count": 5,
   "id": "a7fbc2e6",
   "metadata": {},
   "outputs": [],
   "source": [
    "# s=\" ,:Kaustubh\"\n",
    "# striped=s.strip(\" ,:\")\n",
    "# print(striped)\n",
    "# lowercase=striped.lower()\n",
    "# print(lowercase)\n"
   ]
  },
  {
   "cell_type": "code",
   "execution_count": 6,
   "id": "54a13b7f",
   "metadata": {},
   "outputs": [
    {
     "data": {
      "text/plain": [
       "True"
      ]
     },
     "execution_count": 6,
     "metadata": {},
     "output_type": "execute_result"
    }
   ],
   "source": [
    "def isPalindrome(s):\n",
    "    left, right = 0, len(s) - 1\n",
    "    \n",
    "    while left < right:\n",
    "        # Skip non-alphanumeric characters\n",
    "        while left < right and not s[left].isalnum():\n",
    "            left += 1\n",
    "        while left < right and not s[right].isalnum():\n",
    "            right -= 1\n",
    "        \n",
    "        if s[left].lower() != s[right].lower():\n",
    "            return False\n",
    "        \n",
    "        left += 1\n",
    "        right -= 1\n",
    "    \n",
    "    return True\n",
    "s=\"madam\"\n",
    "isPalindrome(s)"
   ]
  },
  {
   "cell_type": "code",
   "execution_count": null,
   "id": "751976e4",
   "metadata": {},
   "outputs": [],
   "source": []
  }
 ],
 "metadata": {
  "kernelspec": {
   "display_name": "base",
   "language": "python",
   "name": "python3"
  },
  "language_info": {
   "codemirror_mode": {
    "name": "ipython",
    "version": 3
   },
   "file_extension": ".py",
   "mimetype": "text/x-python",
   "name": "python",
   "nbconvert_exporter": "python",
   "pygments_lexer": "ipython3",
   "version": "3.11.7"
  }
 },
 "nbformat": 4,
 "nbformat_minor": 5
}
