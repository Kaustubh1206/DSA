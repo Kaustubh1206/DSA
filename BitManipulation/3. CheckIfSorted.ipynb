{
 "cells": [
  {
   "cell_type": "code",
   "execution_count": null,
   "id": "ab6547c4",
   "metadata": {},
   "outputs": [],
   "source": [
    "nums=[1,2,3,4,5,6,7,8,9]\n",
    "\n",
    "def ifsorted(nums):\n",
    "    for i in nums:\n",
    "        if nums[i]<nums"
   ]
  }
 ],
 "metadata": {
  "language_info": {
   "name": "python"
  }
 },
 "nbformat": 4,
 "nbformat_minor": 5
}
