{
 "cells": [
  {
   "cell_type": "markdown",
   "metadata": {},
   "source": [
    "### VALID ANAGRAM\n"
   ]
  },
  {
   "cell_type": "markdown",
   "metadata": {},
   "source": [
    "Input: s = \"racecar\", t = \"carrace\"\n",
    "\n",
    "Output: true\n"
   ]
  },
  {
   "cell_type": "markdown",
   "metadata": {},
   "source": [
    " BRUTE FORCE"
   ]
  },
  {
   "cell_type": "code",
   "execution_count": null,
   "metadata": {},
   "outputs": [
    {
     "data": {
      "text/plain": [
       "True"
      ]
     },
     "execution_count": 6,
     "metadata": {},
     "output_type": "execute_result"
    }
   ],
   "source": [
    "def validAngaram(s,t):\n",
    "    if len(s)!=len(t):\n",
    "        return False\n",
    "    empty={}\n",
    "    for char in s:\n",
    "        empty[char]=+1\n",
    "    for char in t:\n",
    "        if char not in s:\n",
    "            return False\n",
    "    return True\n",
    "\n",
    "s=\"carrace\"\n",
    "t=\"racecar\"\n",
    "validAngaram(s,t)\n",
    "\n"
   ]
  },
  {
   "cell_type": "markdown",
   "metadata": {},
   "source": []
  },
  {
   "cell_type": "markdown",
   "metadata": {},
   "source": [
    "SORTING\n"
   ]
  },
  {
   "cell_type": "code",
   "execution_count": 2,
   "metadata": {},
   "outputs": [
    {
     "data": {
      "text/plain": [
       "True"
      ]
     },
     "execution_count": 2,
     "metadata": {},
     "output_type": "execute_result"
    }
   ],
   "source": [
    "def validAngaramSort(s,t):\n",
    "    if len(s)!=len(t):\n",
    "        return False\n",
    "    return sorted(s)==sorted(t)\n",
    "\n",
    "validAngaramSort(s,t)"
   ]
  },
  {
   "cell_type": "markdown",
   "metadata": {},
   "source": [
    "Hash Table using get"
   ]
  },
  {
   "cell_type": "code",
   "execution_count": 7,
   "metadata": {},
   "outputs": [
    {
     "data": {
      "text/plain": [
       "True"
      ]
     },
     "execution_count": 7,
     "metadata": {},
     "output_type": "execute_result"
    }
   ],
   "source": [
    "# s -> r a c e c a r \n",
    "#      0 1 2 3 4 5 6 \n",
    "\n",
    "def validAnagramHash(s,t):\n",
    "    if len(s)!=len(t):\n",
    "        return False\n",
    "    \n",
    "    CountS,CountT={},{} # empty dictionary for each string \n",
    "\n",
    "    for i in range(len(s)):\n",
    "        CountS[s[i]] = 1 + CountS.get(s[i],0) # here we store the frequncy of char in key value pairs\n",
    "        CountT[t[i]] = 1 + CountT.get(t[i],0)\n",
    "    return CountS==CountT # compare the frequncy of char \n",
    "validAnagramHash(s,t)\n"
   ]
  },
  {
   "cell_type": "markdown",
   "metadata": {},
   "source": [
    "# HAsh Table -  26 "
   ]
  },
  {
   "cell_type": "code",
   "execution_count": 10,
   "metadata": {},
   "outputs": [
    {
     "data": {
      "text/plain": [
       "True"
      ]
     },
     "execution_count": 10,
     "metadata": {},
     "output_type": "execute_result"
    }
   ],
   "source": [
    "def validAnagramHash26(s,t):\n",
    "    if len(s)!=len(t):\n",
    "        return False\n",
    "    \n",
    "    count=[0]*26 # MAke 26 0's \n",
    "\n",
    "    for i in range(len(s)):\n",
    "        count[ord(s[i])- ord(\"a\")] +=1  # for every char in s we will iterate the specfic 0 witb +1\n",
    "        count[ord(t[i]) - ord(\"a\")] -=1 # if the same char encounters will subtract 0 \n",
    "    \n",
    "    for val in count: \n",
    "        if val != 0: # at the last val of count should be 0 \n",
    "            return False # if not the string is not anagram\n",
    "    return True\n",
    "\n",
    "s=\"carrace\"\n",
    "t=\"racecar\"\n",
    "validAnagramHash26(s,t)\n"
   ]
  },
  {
   "cell_type": "code",
   "execution_count": null,
   "metadata": {},
   "outputs": [],
   "source": []
  },
  {
   "cell_type": "code",
   "execution_count": 8,
   "metadata": {},
   "outputs": [
    {
     "data": {
      "text/plain": [
       "97"
      ]
     },
     "execution_count": 8,
     "metadata": {},
     "output_type": "execute_result"
    }
   ],
   "source": [
    "ord('a')"
   ]
  },
  {
   "cell_type": "code",
   "execution_count": 9,
   "metadata": {},
   "outputs": [
    {
     "data": {
      "text/plain": [
       "98"
      ]
     },
     "execution_count": 9,
     "metadata": {},
     "output_type": "execute_result"
    }
   ],
   "source": [
    "ord('b')"
   ]
  },
  {
   "cell_type": "code",
   "execution_count": null,
   "metadata": {},
   "outputs": [],
   "source": []
  }
 ],
 "metadata": {
  "kernelspec": {
   "display_name": "base",
   "language": "python",
   "name": "python3"
  },
  "language_info": {
   "codemirror_mode": {
    "name": "ipython",
    "version": 3
   },
   "file_extension": ".py",
   "mimetype": "text/x-python",
   "name": "python",
   "nbconvert_exporter": "python",
   "pygments_lexer": "ipython3",
   "version": "3.11.7"
  }
 },
 "nbformat": 4,
 "nbformat_minor": 2
}
