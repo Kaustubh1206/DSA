{
 "cells": [
  {
   "cell_type": "markdown",
   "id": "726a2a98",
   "metadata": {},
   "source": [
    "## 217. Contains Duplicate\n",
    "https://leetcode.com/problems/contains-duplicate/description/"
   ]
  },
  {
   "cell_type": "code",
   "execution_count": null,
   "id": "1bfbffe7",
   "metadata": {},
   "outputs": [
    {
     "data": {
      "text/plain": [
       "True"
      ]
     },
     "execution_count": 2,
     "metadata": {},
     "output_type": "execute_result"
    }
   ],
   "source": [
    "# BRUTE FORCE\n",
    "def isduplicate(nums):\n",
    "    for i in range(len(nums)):\n",
    "        for j in range (1,len(nums)):\n",
    "            if nums[i]==nums[j]:\n",
    "                return True\n",
    "    return False\n",
    "\n",
    "nums=[1,2,1,3]\n",
    "isduplicate(nums)\n",
    "\n",
    "# TC - O(N)square\n",
    "# SC- O(1)"
   ]
  },
  {
   "cell_type": "code",
   "execution_count": null,
   "id": "9e2cff40",
   "metadata": {},
   "outputs": [
    {
     "data": {
      "text/plain": [
       "True"
      ]
     },
     "execution_count": 3,
     "metadata": {},
     "output_type": "execute_result"
    }
   ],
   "source": [
    "def sortisduplicate(nums):\n",
    "    nums.sort()\n",
    "    for i in range(len(nums)):\n",
    "        if nums[i]==nums[i-1]:\n",
    "            return True\n",
    "    return False\n",
    "sortisduplicate(nums)\n",
    "\n",
    "\n",
    "# TC - O(NLogN)\n",
    "# SC- O(1)"
   ]
  },
  {
   "cell_type": "code",
   "execution_count": 9,
   "id": "bc7772da",
   "metadata": {},
   "outputs": [
    {
     "data": {
      "text/plain": [
       "True"
      ]
     },
     "execution_count": 9,
     "metadata": {},
     "output_type": "execute_result"
    }
   ],
   "source": [
    "def hashisduplicate(nums):\n",
    "    seen=set()\n",
    "    for num in nums:\n",
    "        if num in seen:\n",
    "            return True\n",
    "        seen.add(num)\n",
    "    return False\n",
    "hashisduplicate(nums)\n",
    "# TC - O(N)\n",
    "# SC- O(N)"
   ]
  },
  {
   "cell_type": "code",
   "execution_count": null,
   "id": "4c4b386a",
   "metadata": {},
   "outputs": [],
   "source": []
  }
 ],
 "metadata": {
  "kernelspec": {
   "display_name": "base",
   "language": "python",
   "name": "python3"
  },
  "language_info": {
   "codemirror_mode": {
    "name": "ipython",
    "version": 3
   },
   "file_extension": ".py",
   "mimetype": "text/x-python",
   "name": "python",
   "nbconvert_exporter": "python",
   "pygments_lexer": "ipython3",
   "version": "3.11.7"
  }
 },
 "nbformat": 4,
 "nbformat_minor": 5
}
