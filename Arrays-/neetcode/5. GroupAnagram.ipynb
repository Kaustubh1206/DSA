{
 "cells": [
  {
   "cell_type": "markdown",
   "metadata": {},
   "source": [
    "### Group Anagram\n",
    "\n",
    "\n"
   ]
  },
  {
   "cell_type": "markdown",
   "metadata": {},
   "source": [
    "Input: strs = [\"act\",\"pots\",\"tops\",\"cat\",\"stop\",\"hat\"]\n",
    "\n",
    "Output: [[\"hat\"],[\"act\", \"cat\"],[\"stop\", \"pots\", \"tops\"]]\n"
   ]
  },
  {
   "cell_type": "code",
   "execution_count": null,
   "metadata": {},
   "outputs": [],
   "source": [
    "def GroupAnagram(list):\n",
    "    empty_list={}\n",
    "    empty_char={}\n",
    "    for element in enumerate(list):\n",
    "        for char in element:\n",
    "            if char in \n",
    "\n"
   ]
  },
  {
   "cell_type": "markdown",
   "metadata": {},
   "source": [
    "### Categorize using sorting "
   ]
  },
  {
   "cell_type": "code",
   "execution_count": null,
   "metadata": {},
   "outputs": [
    {
     "name": "stdout",
     "output_type": "stream",
     "text": [
      "[['act', 'cat'], ['pots', 'tops', 'stop'], ['hat']]\n"
     ]
    }
   ],
   "source": [
    "from collections import defaultdict\n",
    "\n",
    "def group_anagrams(strs):\n",
    "    anagrams = defaultdict(list)  # Dictionary to store grouped anagrams\n",
    "    \n",
    "    for word in strs:\n",
    "        sorted_word = \"\".join(sorted(word))  # Here every word is sorted alike eat -> aet\n",
    "        anagrams[sorted_word].append(word)  # Use sorted word as key and group anagrams\n",
    "\n",
    "        # here we are using aet as a key and group value base on this key \n",
    "    \n",
    "    return list(anagrams.values())\n",
    "\n",
    "# # Example test cases\n",
    "print(group_anagrams([\"act\", \"pots\", \"tops\", \"cat\", \"stop\", \"hat\"]))\n",
    "# print(group_anagrams([\"x\"]))\n",
    "# print(group_anagrams([\"\"]))\n"
   ]
  },
  {
   "cell_type": "markdown",
   "metadata": {},
   "source": [
    "### Group Anagrams using Frequency "
   ]
  },
  {
   "cell_type": "code",
   "execution_count": null,
   "metadata": {},
   "outputs": [
    {
     "name": "stdout",
     "output_type": "stream",
     "text": [
      "[['act', 'cat'], ['pots', 'tops', 'stop'], ['hat']]\n",
      "[['x']]\n",
      "[['']]\n"
     ]
    }
   ],
   "source": [
    "from collections import defaultdict\n",
    "\n",
    "def group_anagrams(strs):\n",
    "    anagrams = defaultdict(list)  # Dictionary to store grouped anagrams\n",
    "    \n",
    "    for word in strs:\n",
    "        freq = [0] * 26  # Frequency array for 'a' to 'z'  \n",
    "        ### here we are creating 26 0's for each alphabet \n",
    "        \n",
    "        for char in word:\n",
    "            freq[ord(char) - ord('a')] += 1  # Count occurrences\n",
    "\n",
    "            # 80 - 80 = 0 -> a\n",
    "            # 81-80= 1 -> b\n",
    "        \n",
    "        key = tuple(freq)  # Convert to a tuple to use as a key \n",
    "        # using tuyple to make it hashable\n",
    "        \n",
    "        # for eg word ab\n",
    "        # a b c d e f g h i j k l m n o p q r s t u v w x y z \n",
    "        # 1 1 0 0 0 0 0 0 0 0 0 0 0 0 0 0 0 0 0 0 0 0 0 0 0 0 -> this will be key \n",
    "\n",
    "    \n",
    "        anagrams[key].append(word)  # Append word to its group  \n",
    "        # No we are going to group the word on the basis of key \n",
    "    \n",
    "    return list(anagrams.values())\n",
    "\n",
    "# Example test cases\n",
    "print(group_anagrams([\"act\",\"pots\",\"tops\",\"cat\",\"stop\",\"hat\"]))\n",
    "print(group_anagrams([\"x\"]))\n",
    "print(group_anagrams([\"\"]))\n"
   ]
  },
  {
   "cell_type": "markdown",
   "metadata": {},
   "source": [
    "### 14. Longest Common Prefix"
   ]
  },
  {
   "cell_type": "markdown",
   "metadata": {},
   "source": [
    "Input: strs = [\"flower\",\"flow\",\"flight\"]\n",
    "Output: \"fl\"\n"
   ]
  },
  {
   "cell_type": "code",
   "execution_count": 17,
   "metadata": {},
   "outputs": [
    {
     "data": {
      "text/plain": [
       "'ca'"
      ]
     },
     "execution_count": 17,
     "metadata": {},
     "output_type": "execute_result"
    }
   ],
   "source": [
    "def longestCommonPrefix(strs):\n",
    "    if len(strs)==0:\n",
    "        return \" \"\n",
    "    base=strs[0]\n",
    "\n",
    "    for i in range(len(base)):\n",
    "        for words in strs[1:]:\n",
    "            if(i==len(words) or words[i] != base[i]):\n",
    "                return base[0:i]\n",
    "    return base\n",
    "\n",
    "\n",
    "strs=[\"car\",\"cat\"]\n",
    "longestCommonPrefix(strs)\n"
   ]
  },
  {
   "cell_type": "markdown",
   "metadata": {},
   "source": [
    "## Sorting First and Last "
   ]
  },
  {
   "cell_type": "code",
   "execution_count": 21,
   "metadata": {},
   "outputs": [
    {
     "data": {
      "text/plain": [
       "'Cla'"
      ]
     },
     "execution_count": 21,
     "metadata": {},
     "output_type": "execute_result"
    }
   ],
   "source": [
    "def longest_common_prefix_sorting(strs):\n",
    "    if not strs:\n",
    "        return \"\"\n",
    "\n",
    "    strs.sort()  # Sorting the array\n",
    "    first, last = strs[0], strs[-1]  # Compare first and last strings\n",
    "\n",
    "    i = 0   # starting from i\n",
    "    while i < len(first) and i < len(last) and first[i] == last[i]: \n",
    "        # Condition\n",
    "        # the alphabet position should be les than both the wprd and char should be equal \n",
    "        i += 1\n",
    "\n",
    "    return first[:i]\n",
    "\n",
    "strs=[\"Class\",\"Clap\",\"Classmethod\"]\n",
    "longestCommonPrefix(strs)\n"
   ]
  },
  {
   "cell_type": "code",
   "execution_count": null,
   "metadata": {},
   "outputs": [],
   "source": []
  }
 ],
 "metadata": {
  "kernelspec": {
   "display_name": "base",
   "language": "python",
   "name": "python3"
  },
  "language_info": {
   "codemirror_mode": {
    "name": "ipython",
    "version": 3
   },
   "file_extension": ".py",
   "mimetype": "text/x-python",
   "name": "python",
   "nbconvert_exporter": "python",
   "pygments_lexer": "ipython3",
   "version": "3.11.7"
  }
 },
 "nbformat": 4,
 "nbformat_minor": 2
}
