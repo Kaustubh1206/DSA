{
 "cells": [
  {
   "cell_type": "markdown",
   "id": "4bd4bc76",
   "metadata": {},
   "source": [
    "## 287. Duplicate Number\n",
    "\n",
    "Input= [1,3,4,2,2]\n",
    "Output= 2"
   ]
  },
  {
   "cell_type": "code",
   "execution_count": 9,
   "id": "ceb7e480",
   "metadata": {},
   "outputs": [
    {
     "data": {
      "text/plain": [
       "2"
      ]
     },
     "execution_count": 9,
     "metadata": {},
     "output_type": "execute_result"
    }
   ],
   "source": [
    "# Hash Length \n",
    "def bruteDulpicate(nums):\n",
    "    seen=set()\n",
    "    for num in nums:\n",
    "        if num in seen:\n",
    "            return num \n",
    "        seen.add(num)\n",
    "    return None\n",
    "nums=[1,2,4,2,3]\n",
    "bruteDulpicate(nums)"
   ]
  },
  {
   "cell_type": "code",
   "execution_count": null,
   "id": "5c8b5b0b",
   "metadata": {},
   "outputs": [
    {
     "data": {
      "text/plain": [
       "3"
      ]
     },
     "execution_count": 12,
     "metadata": {},
     "output_type": "execute_result"
    }
   ],
   "source": [
    "# Brute Force\n",
    "def brute(nums):\n",
    "    for i in range (len(nums)):\n",
    "        for j in range( 1,(len(nums))):\n",
    "            if nums[i]==nums[j]:\n",
    "                return nums[i]\n",
    "    return None\n",
    "nums=[1,3,4,2,3]\n",
    "brute(nums)"
   ]
  },
  {
   "cell_type": "code",
   "execution_count": null,
   "id": "8b021f93",
   "metadata": {},
   "outputs": [],
   "source": []
  }
 ],
 "metadata": {
  "kernelspec": {
   "display_name": "base",
   "language": "python",
   "name": "python3"
  },
  "language_info": {
   "codemirror_mode": {
    "name": "ipython",
    "version": 3
   },
   "file_extension": ".py",
   "mimetype": "text/x-python",
   "name": "python",
   "nbconvert_exporter": "python",
   "pygments_lexer": "ipython3",
   "version": "3.11.7"
  }
 },
 "nbformat": 4,
 "nbformat_minor": 5
}
