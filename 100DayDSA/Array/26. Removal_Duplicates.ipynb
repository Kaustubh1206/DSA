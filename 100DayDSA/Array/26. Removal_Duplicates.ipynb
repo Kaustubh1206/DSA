{
 "cells": [
  {
   "cell_type": "markdown",
   "id": "92293b2f",
   "metadata": {},
   "source": [
    "## 26. Remove Dupicates from sorted array  \n",
    "input - [1,1,2]\n",
    "\n"
   ]
  },
  {
   "cell_type": "code",
   "execution_count": 2,
   "id": "9a1e9379",
   "metadata": {},
   "outputs": [
    {
     "data": {
      "text/plain": [
       "2"
      ]
     },
     "execution_count": 2,
     "metadata": {},
     "output_type": "execute_result"
    }
   ],
   "source": [
    "# Sort Inplace \n",
    "\n",
    "def removal_duplicates(nums):\n",
    "    nums[:]=sorted(set(nums)) # nums[:] -> what this does is it replace elements inplace \n",
    "    return len(nums)\n",
    "\n",
    "nums=[1,1,2]\n",
    "removal_duplicates(nums)\n"
   ]
  },
  {
   "cell_type": "code",
   "execution_count": null,
   "id": "5c98d9e7",
   "metadata": {},
   "outputs": [],
   "source": []
  }
 ],
 "metadata": {
  "kernelspec": {
   "display_name": "base",
   "language": "python",
   "name": "python3"
  },
  "language_info": {
   "codemirror_mode": {
    "name": "ipython",
    "version": 3
   },
   "file_extension": ".py",
   "mimetype": "text/x-python",
   "name": "python",
   "nbconvert_exporter": "python",
   "pygments_lexer": "ipython3",
   "version": "3.11.7"
  }
 },
 "nbformat": 4,
 "nbformat_minor": 5
}
