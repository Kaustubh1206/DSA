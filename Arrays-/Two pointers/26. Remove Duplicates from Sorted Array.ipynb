{
 "cells": [
  {
   "cell_type": "markdown",
   "id": "c0bd40dc",
   "metadata": {},
   "source": [
    "Remove Duplicates from Sorted Array\n"
   ]
  },
  {
   "cell_type": "code",
   "execution_count": null,
   "id": "5ca6e43d",
   "metadata": {},
   "outputs": [
    {
     "name": "stdout",
     "output_type": "stream",
     "text": [
      "Unique elements: [0, 1, 2, 3, 4]\n"
     ]
    },
    {
     "data": {
      "text/plain": [
       "5"
      ]
     },
     "execution_count": 6,
     "metadata": {},
     "output_type": "execute_result"
    }
   ],
   "source": [
    "# Parallel pointer\n",
    "\n",
    "# 0 0 1 1 1 2 2 3 3 4 \n",
    "# l r \n",
    "def remove_elements(nums):\n",
    "    left=0 # intialize left 0\n",
    "    for right in range(1,len(nums)): # iterate a loop from 1 \n",
    "        if nums[left]!=nums[right]: # when left and right is not matched this means there is a unique element \n",
    "            left+=1 # left will increment \n",
    "            nums[left]=nums[right] # left = right will bring unique element at the begining \n",
    "        unique_count = left + 1 # here we will also increase the count\n",
    "    print(\"Unique elements:\", nums[:unique_count])\n",
    "    return unique_count\n",
    "nums=[0,0,1,1,1,2,2,3,3,4]\n",
    "remove_elements(nums)"
   ]
  }
 ],
 "metadata": {
  "kernelspec": {
   "display_name": "base",
   "language": "python",
   "name": "python3"
  },
  "language_info": {
   "codemirror_mode": {
    "name": "ipython",
    "version": 3
   },
   "file_extension": ".py",
   "mimetype": "text/x-python",
   "name": "python",
   "nbconvert_exporter": "python",
   "pygments_lexer": "ipython3",
   "version": "3.11.7"
  }
 },
 "nbformat": 4,
 "nbformat_minor": 5
}
